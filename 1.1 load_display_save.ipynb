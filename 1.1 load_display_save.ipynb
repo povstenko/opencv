{
 "cells": [
  {
   "cell_type": "markdown",
   "id": "adjusted-defendant",
   "metadata": {},
   "source": [
    "# Loading, displaying, and saving images"
   ]
  },
  {
   "cell_type": "markdown",
   "id": "passing-prescription",
   "metadata": {},
   "source": [
    "### import the necessary packagesimport the necessary packages"
   ]
  },
  {
   "cell_type": "code",
   "execution_count": 1,
   "id": "spatial-explosion",
   "metadata": {},
   "outputs": [],
   "source": [
    "import cv2"
   ]
  },
  {
   "cell_type": "markdown",
   "id": "polar-authorization",
   "metadata": {},
   "source": [
    "### load the image and show some basic information on it"
   ]
  },
  {
   "cell_type": "code",
   "execution_count": 2,
   "id": "controversial-survival",
   "metadata": {},
   "outputs": [
    {
     "name": "stdout",
     "output_type": "stream",
     "text": [
      "width: 640 pixels\n",
      "height: 640 pixels\n",
      "channels: 3\n"
     ]
    }
   ],
   "source": [
    "image = cv2.imread(\"image/dsc_logo.jpg\")\n",
    "print(\"width: %d pixels\" % (image.shape[1]))\n",
    "print(\"height: %d pixels\" % (image.shape[0]))\n",
    "print(\"channels: %d\" % (image.shape[2]))"
   ]
  },
  {
   "cell_type": "markdown",
   "id": "capital-attribute",
   "metadata": {},
   "source": [
    "### show the image"
   ]
  },
  {
   "cell_type": "code",
   "execution_count": 3,
   "id": "inappropriate-package",
   "metadata": {},
   "outputs": [
    {
     "data": {
      "text/plain": [
       "-1"
      ]
     },
     "execution_count": 3,
     "metadata": {},
     "output_type": "execute_result"
    }
   ],
   "source": [
    "cv2.imshow(\"Image\", image)\n",
    "cv2.waitKey(0)"
   ]
  },
  {
   "cell_type": "markdown",
   "id": "vocational-yeast",
   "metadata": {},
   "source": [
    "### save the image\n",
    "OpenCV handles converting filetypes automatically"
   ]
  },
  {
   "cell_type": "code",
   "execution_count": 4,
   "id": "serious-marking",
   "metadata": {},
   "outputs": [
    {
     "data": {
      "text/plain": [
       "True"
      ]
     },
     "execution_count": 4,
     "metadata": {},
     "output_type": "execute_result"
    }
   ],
   "source": [
    "cv2.imwrite(\"image/newimage.jpg\", image)"
   ]
  }
 ],
 "metadata": {
  "kernelspec": {
   "display_name": "Python 3",
   "language": "python",
   "name": "python3"
  },
  "language_info": {
   "codemirror_mode": {
    "name": "ipython",
    "version": 3
   },
   "file_extension": ".py",
   "mimetype": "text/x-python",
   "name": "python",
   "nbconvert_exporter": "python",
   "pygments_lexer": "ipython3",
   "version": "3.8.3"
  }
 },
 "nbformat": 4,
 "nbformat_minor": 5
}
