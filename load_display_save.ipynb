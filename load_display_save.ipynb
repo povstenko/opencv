{
 "cells": [
  {
   "cell_type": "markdown",
   "id": "alert-driver",
   "metadata": {},
   "source": [
    "# Loading, displaying, and saving images"
   ]
  },
  {
   "cell_type": "markdown",
   "id": "consecutive-limitation",
   "metadata": {},
   "source": [
    "### import the necessary packagesimport the necessary packages"
   ]
  },
  {
   "cell_type": "code",
   "execution_count": 3,
   "id": "oriented-refund",
   "metadata": {},
   "outputs": [],
   "source": [
    "import cv2"
   ]
  },
  {
   "cell_type": "markdown",
   "id": "secure-peninsula",
   "metadata": {},
   "source": [
    "### load the image and show some basic information on it"
   ]
  },
  {
   "cell_type": "code",
   "execution_count": null,
   "id": "numerical-edwards",
   "metadata": {},
   "outputs": [],
   "source": []
  }
 ],
 "metadata": {
  "kernelspec": {
   "display_name": "Python 3",
   "language": "python",
   "name": "python3"
  },
  "language_info": {
   "codemirror_mode": {
    "name": "ipython",
    "version": 3
   },
   "file_extension": ".py",
   "mimetype": "text/x-python",
   "name": "python",
   "nbconvert_exporter": "python",
   "pygments_lexer": "ipython3",
   "version": "3.8.3"
  }
 },
 "nbformat": 4,
 "nbformat_minor": 5
}
